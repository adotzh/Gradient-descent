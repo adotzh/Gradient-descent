{
 "cells": [
  {
   "cell_type": "code",
   "execution_count": 1,
   "metadata": {},
   "outputs": [],
   "source": [
    "import math\n",
    "import numpy as np\n",
    "import matplotlib.pyplot as plt\n",
    "from tqdm import tqdm"
   ]
  },
  {
   "cell_type": "code",
   "execution_count": 2,
   "metadata": {},
   "outputs": [],
   "source": [
    "def grad_f(x):\n",
    "    return (4 * math.sin(x) - 6 * (math.sin(x) ** 3))\n",
    "def f(x):\n",
    "    return math.sin(x) * math.sin(2*x)"
   ]
  },
  {
   "cell_type": "code",
   "execution_count": 41,
   "metadata": {},
   "outputs": [],
   "source": [
    "#первый шаг градиентного спуска\n",
    "alpha = 1/5\n",
    "#константа остановки алгоритма\n",
    "eps = 1e-4\n",
    "x_min = - 3 * math.pi / 2 - math.asin(math.sqrt(2/3))\n",
    "x_max = 3 * math.pi / 2 + math.asin(math.sqrt(2/3))\n",
    "x0_list = np.linspace(x_min, x_max, 100)"
   ]
  },
  {
   "cell_type": "markdown",
   "metadata": {},
   "source": [
    "Секрет быстрой сходимости алгоритма, взять не очень большой размер первого шага алгоритма и далее делить размер шага на номер шага алгоритма. Можно еще посмотреть на скорость сходимости в точках и мы увидим, что время различается, на некоторых точках алгоритм сходится заметно медленнее."
   ]
  },
  {
   "cell_type": "code",
   "execution_count": 42,
   "metadata": {},
   "outputs": [
    {
     "name": "stderr",
     "output_type": "stream",
     "text": [
      "100%|██████████| 100/100 [03:58<00:00,  2.38s/it]\n"
     ]
    }
   ],
   "source": [
    "#построим градиентный спуска для всех вохможных начальных x\n",
    "full_result = []\n",
    "for x0 in tqdm(x0_list):\n",
    "    i = 1\n",
    "    result = {}\n",
    "    result = {\"x\": [], \"grad_f\":[], \"f\":[]}\n",
    "    while abs(grad_f(x0)) > eps:\n",
    "        x0 = x0 - alpha/i * grad_f(x0)\n",
    "        result['grad_f'].append(grad_f(x0))\n",
    "        result[\"x\"].append(x0)\n",
    "        result[\"f\"].append(f(x0))\n",
    "        i += 1\n",
    "    full_result.append(result)"
   ]
  },
  {
   "cell_type": "markdown",
   "metadata": {},
   "source": [
    "Построим график зависимости найденного оптимального решения от начального x и зависимость значения функции в оптимальном x от начального значения."
   ]
  },
  {
   "cell_type": "code",
   "execution_count": 43,
   "metadata": {},
   "outputs": [
    {
     "data": {
      "text/plain": [
       "Text(0, 0.5, 'f_optimal')"
      ]
     },
     "execution_count": 43,
     "metadata": {},
     "output_type": "execute_result"
    },
    {
     "data": {
      "image/png": "[encoded data removed]",
      "text/plain": [
       "<Figure size 864x288 with 2 Axes>"
      ]
     },
     "metadata": {
      "needs_background": "light"
     },
     "output_type": "display_data"
    }
   ],
   "source": [
    "x_optimal = [result[\"x\"][-1] for result in full_result]\n",
    "f_min = [f(x) for x in x_optimal]\n",
    "fig, ax = plt.subplots(1, 2, figsize=(12,4))\n",
    "ax[0].scatter(x0_list, x_optimal)\n",
    "ax[0].set_xlabel(\"x0\")\n",
    "ax[0].set_ylabel(\"x_optimal\")\n",
    "ax[1].scatter(x0_list, f_min)\n",
    "ax[1].set_xlabel(\"x0\")\n",
    "ax[1].set_ylabel(\"f_optimal\")"
   ]
  },
  {
   "cell_type": "code",
   "execution_count": 63,
   "metadata": {},
   "outputs": [
    {
     "data": {
      "text/plain": [
       "0.28205128205128205"
      ]
     },
     "execution_count": 63,
     "metadata": {},
     "output_type": "execute_result"
    }
   ],
   "source": [
    "round_f_min = np.array(list(map(round, f_min)))\n",
    "_, count = np.unique(round_f_min, return_counts=True)\n",
    "count[1]/count[0]"
   ]
  },
  {
   "cell_type": "markdown",
   "metadata": {},
   "source": [
    "Заметим, что алгоритм скатывается в локальные минимумы, соответствующие разным оптимальным значениям x. Оптимальное значение x зависит от стартового и является ближайшим к нему x.\n",
    "\n",
    "__Вблизи каких точек будет останавливаться алгоритм?__\n",
    "\n",
    "Вблизи значений функции -0.77 и 0\n",
    "\n",
    "__Какая доля спусков сойдется к каждой из точек останова, если точек для запуска спуска было выбрано достаточно много?__\n",
    "\n",
    "По графику видим, что примерно 3/10 точек сойдутся к значениям функции, соответствующим -0.77 и остальные к 0 (при взятии 1000 начальных точек)."
   ]
  }
 ],
 "metadata": {
  "kernelspec": {
   "display_name": "Python 3",
   "language": "python",
   "name": "python3"
  },
  "language_info": {
   "codemirror_mode": {
    "name": "ipython",
    "version": 3
   },
   "file_extension": ".py",
   "mimetype": "text/x-python",
   "name": "python",
   "nbconvert_exporter": "python",
   "pygments_lexer": "ipython3",
   "version": "3.8.3"
  }
 },
 "nbformat": 4,
 "nbformat_minor": 4
}
